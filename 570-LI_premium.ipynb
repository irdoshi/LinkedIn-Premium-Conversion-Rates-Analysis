{
 "cells": [
  {
   "cell_type": "code",
   "execution_count": 1,
   "id": "43d344be",
   "metadata": {},
   "outputs": [],
   "source": [
    "import numpy as np\n",
    "import pandas as pd"
   ]
  },
  {
   "cell_type": "markdown",
   "id": "2767930a",
   "metadata": {},
   "source": [
    "Null hypothesis (H0): There is no significant difference in satisfaction between LinkedIn Premium users and non-users.\n",
    "\n",
    "\n",
    "Alternative hypothesis (HA): There is a significant difference in satisfaction between LinkedIn Premium users and non-users.\n",
    "\n",
    "alpha = 0.2"
   ]
  },
  {
   "cell_type": "code",
   "execution_count": 39,
   "id": "2c88f637",
   "metadata": {},
   "outputs": [
    {
     "name": "stdout",
     "output_type": "stream",
     "text": [
      "<class 'pandas.core.frame.DataFrame'>\n",
      "RangeIndex: 43 entries, 0 to 42\n",
      "Data columns (total 9 columns):\n",
      " #   Column                            Non-Null Count  Dtype  \n",
      "---  ------                            --------------  -----  \n",
      " 0   li_premium                        42 non-null     float64\n",
      " 1   satisfaction_lv                   42 non-null     float64\n",
      " 2   freq_of_use                       42 non-null     float64\n",
      " 3   inmail_effectiveness              42 non-null     float64\n",
      " 4   applicant_insights_effectiveness  42 non-null     float64\n",
      " 5   linkedin_learning_effectiveness   42 non-null     float64\n",
      " 6   profile_insights_effectiveness    42 non-null     float64\n",
      " 7   pre_services                      42 non-null     object \n",
      " 8   add_features                      42 non-null     object \n",
      "dtypes: float64(7), object(2)\n",
      "memory usage: 3.1+ KB\n",
      "li_premium                          0\n",
      "satisfaction_lv                     0\n",
      "freq_of_use                         0\n",
      "inmail_effectiveness                0\n",
      "applicant_insights_effectiveness    0\n",
      "linkedin_learning_effectiveness     0\n",
      "profile_insights_effectiveness      0\n",
      "pre_services                        0\n",
      "add_features                        0\n",
      "dtype: int64\n"
     ]
    }
   ],
   "source": [
    "li_data = pd.read_csv('li_mod.csv')\n",
    "li_data.head()\n",
    "li_data.info()\n",
    "li_data.shape\n",
    "\n",
    "li_data.dropna(inplace=True)\n",
    "print(li_data.isna().sum())\n",
    "\n",
    "# getting users whos usually use premium\n",
    "freq_users = li_data[li_data['freq_of_use'] > 2]"
   ]
  },
  {
   "cell_type": "code",
   "execution_count": 23,
   "id": "920a0379",
   "metadata": {
    "scrolled": true
   },
   "outputs": [
    {
     "name": "stdout",
     "output_type": "stream",
     "text": [
      "Collecting researchpy\n",
      "  Downloading researchpy-0.3.5-py3-none-any.whl (33 kB)\n",
      "Requirement already satisfied: numpy in c:\\users\\rahul\\anaconda3\\lib\\site-packages (from researchpy) (1.23.5)\n",
      "Requirement already satisfied: patsy in c:\\users\\rahul\\anaconda3\\lib\\site-packages (from researchpy) (0.5.2)\n",
      "Requirement already satisfied: pandas in c:\\users\\rahul\\anaconda3\\lib\\site-packages (from researchpy) (1.4.4)\n",
      "Requirement already satisfied: statsmodels in c:\\users\\rahul\\anaconda3\\lib\\site-packages (from researchpy) (0.13.2)\n",
      "Requirement already satisfied: scipy in c:\\users\\rahul\\anaconda3\\lib\\site-packages (from researchpy) (1.9.1)\n",
      "Requirement already satisfied: python-dateutil>=2.8.1 in c:\\users\\rahul\\anaconda3\\lib\\site-packages (from pandas->researchpy) (2.8.2)\n",
      "Requirement already satisfied: pytz>=2020.1 in c:\\users\\rahul\\anaconda3\\lib\\site-packages (from pandas->researchpy) (2022.1)\n",
      "Requirement already satisfied: six in c:\\users\\rahul\\anaconda3\\lib\\site-packages (from patsy->researchpy) (1.16.0)\n",
      "Requirement already satisfied: packaging>=21.3 in c:\\users\\rahul\\anaconda3\\lib\\site-packages (from statsmodels->researchpy) (21.3)\n",
      "Requirement already satisfied: pyparsing!=3.0.5,>=2.0.2 in c:\\users\\rahul\\anaconda3\\lib\\site-packages (from packaging>=21.3->statsmodels->researchpy) (3.0.9)\n",
      "Installing collected packages: researchpy\n",
      "Successfully installed researchpy-0.3.5\n",
      "Note: you may need to restart the kernel to use updated packages.\n"
     ]
    }
   ],
   "source": [
    "pip install researchpy"
   ]
  },
  {
   "cell_type": "code",
   "execution_count": 24,
   "id": "9b8ca968",
   "metadata": {},
   "outputs": [],
   "source": [
    "import researchpy as rp\n",
    "import scipy.stats as stats"
   ]
  },
  {
   "cell_type": "code",
   "execution_count": 26,
   "id": "59efdb81",
   "metadata": {},
   "outputs": [
    {
     "name": "stderr",
     "output_type": "stream",
     "text": [
      "C:\\Users\\rahul\\anaconda3\\lib\\site-packages\\researchpy\\ttest.py:38: FutureWarning: The series.append method is deprecated and will be removed from pandas in a future version. Use pandas.concat instead.\n",
      "  groups = group1.append(group2, ignore_index= True)\n"
     ]
    }
   ],
   "source": [
    "summary, results = rp.ttest(group1= freq_users['satisfaction_lv'][freq_users['li_premium'] == 1], group1_name= \"Premium_users\",\n",
    "         group2= freq_users['satisfaction_lv'][freq_users['li_premium'] == 0], group2_name= \"Premium_nonusers\")"
   ]
  },
  {
   "cell_type": "code",
   "execution_count": 27,
   "id": "5245bf33",
   "metadata": {},
   "outputs": [
    {
     "name": "stdout",
     "output_type": "stream",
     "text": [
      "           Variable     N      Mean        SD        SE  95% Conf.  Interval\n",
      "0     Premium_users  19.0  2.473684  1.123903  0.257841   1.931980  3.015388\n",
      "1  Premium_nonusers  14.0  3.000000  1.240347  0.331497   2.283845  3.716155\n",
      "2          combined  33.0  2.696970  1.185455  0.206361   2.276626  3.117314\n"
     ]
    }
   ],
   "source": [
    "print(summary)"
   ]
  },
  {
   "cell_type": "code",
   "execution_count": 29,
   "id": "348578d5",
   "metadata": {},
   "outputs": [
    {
     "name": "stdout",
     "output_type": "stream",
     "text": [
      "                                 Independent t-test  results\n",
      "0  Difference (Premium_users - Premium_nonusers) =   -0.5263\n",
      "1                             Degrees of freedom =   31.0000\n",
      "2                                              t =   -1.2727\n",
      "3                          Two side test p value =    0.2126\n",
      "4                         Difference < 0 p value =    0.1063\n",
      "5                         Difference > 0 p value =    0.8937\n",
      "6                                      Cohen's d =   -0.4483\n",
      "7                                      Hedge's g =   -0.4373\n",
      "8                                 Glass's delta1 =   -0.4683\n",
      "9                               Point-Biserial r =   -0.2228\n"
     ]
    }
   ],
   "source": [
    "print(results)"
   ]
  },
  {
   "cell_type": "code",
   "execution_count": 31,
   "id": "d22da8a6",
   "metadata": {},
   "outputs": [
    {
     "data": {
      "text/plain": [
       "Ttest_indResult(statistic=-1.2726526325329304, pvalue=0.21260397661750918)"
      ]
     },
     "execution_count": 31,
     "metadata": {},
     "output_type": "execute_result"
    }
   ],
   "source": [
    "stats.ttest_ind(freq_users['satisfaction_lv'][freq_users['li_premium'] == 1],\n",
    "                freq_users['satisfaction_lv'][freq_users['li_premium'] == 0])\n"
   ]
  },
  {
   "cell_type": "markdown",
   "id": "2e8ad8b2",
   "metadata": {},
   "source": [
    "Based on the p-values, there is no statistically significant difference in satisfaction between LinkedIn Premium users and non-users."
   ]
  }
 ],
 "metadata": {
  "kernelspec": {
   "display_name": "Python 3 (ipykernel)",
   "language": "python",
   "name": "python3"
  },
  "language_info": {
   "codemirror_mode": {
    "name": "ipython",
    "version": 3
   },
   "file_extension": ".py",
   "mimetype": "text/x-python",
   "name": "python",
   "nbconvert_exporter": "python",
   "pygments_lexer": "ipython3",
   "version": "3.9.13"
  }
 },
 "nbformat": 4,
 "nbformat_minor": 5
}
