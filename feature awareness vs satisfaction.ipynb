{
 "cells": [
  {
   "cell_type": "code",
   "execution_count": 1,
   "id": "e9244435",
   "metadata": {},
   "outputs": [],
   "source": [
    "import numpy as np\n",
    "import pandas as pd"
   ]
  },
  {
   "cell_type": "code",
   "execution_count": 2,
   "id": "e1499b0b",
   "metadata": {},
   "outputs": [
    {
     "name": "stdout",
     "output_type": "stream",
     "text": [
      "<class 'pandas.core.frame.DataFrame'>\n",
      "RangeIndex: 42 entries, 0 to 41\n",
      "Data columns (total 23 columns):\n",
      " #   Column                            Non-Null Count  Dtype \n",
      "---  ------                            --------------  ----- \n",
      " 0   li_premium                        42 non-null     int64 \n",
      " 1   satisfaction_lv                   42 non-null     int64 \n",
      " 2   freq_of_use                       42 non-null     int64 \n",
      " 3   li_prem_adv_over_rest             42 non-null     object\n",
      " 4   li_prem_adv_over_rest_bin         42 non-null     int64 \n",
      " 5   inmail_effectiveness              42 non-null     int64 \n",
      " 6   applicant_insights_effectiveness  42 non-null     int64 \n",
      " 7   linkedin_learning_effectiveness   42 non-null     int64 \n",
      " 8   profile_insights_effectiveness    42 non-null     int64 \n",
      " 9   pre_services                      42 non-null     object\n",
      " 10  Applicant insights                42 non-null     int64 \n",
      " 11  InMail                            42 non-null     int64 \n",
      " 12  Linkedin Learning                 42 non-null     int64 \n",
      " 13  Private browsing                  42 non-null     int64 \n",
      " 14  Profile insights                  42 non-null     int64 \n",
      " 15  Who Viewed your profile           42 non-null     int64 \n",
      " 16  add_features                      42 non-null     object\n",
      " 17  Company reviews on job postings   42 non-null     int64 \n",
      " 18  Job market analytics              42 non-null     int64 \n",
      " 19  Mentorship programs               42 non-null     int64 \n",
      " 20  Others                            42 non-null     int64 \n",
      " 21  Personalized recommendations      42 non-null     int64 \n",
      " 22  Resume builder                    42 non-null     int64 \n",
      "dtypes: int64(20), object(3)\n",
      "memory usage: 7.7+ KB\n",
      "li_premium                          0\n",
      "satisfaction_lv                     0\n",
      "freq_of_use                         0\n",
      "li_prem_adv_over_rest               0\n",
      "li_prem_adv_over_rest_bin           0\n",
      "inmail_effectiveness                0\n",
      "applicant_insights_effectiveness    0\n",
      "linkedin_learning_effectiveness     0\n",
      "profile_insights_effectiveness      0\n",
      "pre_services                        0\n",
      "Applicant insights                  0\n",
      "InMail                              0\n",
      "Linkedin Learning                   0\n",
      "Private browsing                    0\n",
      "Profile insights                    0\n",
      "Who Viewed your profile             0\n",
      "add_features                        0\n",
      "Company reviews on job postings     0\n",
      "Job market analytics                0\n",
      "Mentorship programs                 0\n",
      "Others                              0\n",
      "Personalized recommendations        0\n",
      "Resume builder                      0\n",
      "dtype: int64\n"
     ]
    }
   ],
   "source": [
    "li_data = pd.read_csv('output_li.csv')\n",
    "li_data.head()\n",
    "li_data.info()\n",
    "li_data.shape\n",
    "\n",
    "li_data.dropna(inplace=True)\n",
    "print(li_data.isna().sum())\n"
   ]
  },
  {
   "cell_type": "code",
   "execution_count": 21,
   "id": "fb51ef7d",
   "metadata": {},
   "outputs": [
    {
     "data": {
      "text/plain": [
       "(42, 23)"
      ]
     },
     "execution_count": 21,
     "metadata": {},
     "output_type": "execute_result"
    }
   ],
   "source": [
    "li_data.shape"
   ]
  },
  {
   "cell_type": "code",
   "execution_count": 13,
   "id": "255ce1e4",
   "metadata": {},
   "outputs": [],
   "source": [
    "def chi_sq(df, col1,col2):\n",
    "    contingency_table = pd.crosstab(df[col1], \n",
    "                                df[col2])\n",
    "    # Perform chi-square test\n",
    "    chi2, p_value, dof, expected = chi2_contingency(contingency_table)\n",
    "    # Print the results\n",
    "    print(f\"Chi-square statistic: {chi2}\")\n",
    "    print(f\"P-value: {p_value}\")\n",
    "    print(f\"Degrees of freedom: {dof}\")\n",
    "    print(\"Expected frequencies:\")\n",
    "    print(expected)"
   ]
  },
  {
   "cell_type": "markdown",
   "id": "e2e602e2",
   "metadata": {},
   "source": [
    "Null Hypothesis (H0): There is no association between user satisfaction and effectiveness of applicant insights.\n",
    "\n",
    "Alternative Hypothesis (H1): There is an association between user satisfaction and effectiveness of applicant insights.\n",
    "\n",
    "alpha = 0.1"
   ]
  },
  {
   "cell_type": "code",
   "execution_count": 19,
   "id": "6c895fa4",
   "metadata": {},
   "outputs": [
    {
     "name": "stdout",
     "output_type": "stream",
     "text": [
      "Feature: Applicant insights\n",
      "(20, 4) \n",
      "\n",
      "Chi-square statistic: 23.544973544973544\n",
      "P-value: 0.09992456068387973\n",
      "Degrees of freedom: 16\n",
      "Expected frequencies:\n",
      "[[1.2  0.4  1.4  0.2  0.8 ]\n",
      " [2.7  0.9  3.15 0.45 1.8 ]\n",
      " [0.9  0.3  1.05 0.15 0.6 ]\n",
      " [0.9  0.3  1.05 0.15 0.6 ]\n",
      " [0.3  0.1  0.35 0.05 0.2 ]]\n"
     ]
    }
   ],
   "source": [
    "appl_insights = li_data[['li_premium','satisfaction_lv','Applicant insights','applicant_insights_effectiveness']]\n",
    "\n",
    "#premium users who are aware of said feature\n",
    "condition1 = appl_insights['li_premium'] == 1\n",
    "condition2 = appl_insights['Applicant insights'] == 1 \n",
    "\n",
    "aware_premium_users = appl_insights[condition1 & condition2]\n",
    "\n",
    "print('Feature: Applicant insights')\n",
    "print(aware_premium_users.shape,'\\n')\n",
    "\n",
    "\n",
    "chi_sq(aware_premium_users, 'satisfaction_lv', 'applicant_insights_effectiveness')\n"
   ]
  },
  {
   "cell_type": "markdown",
   "id": "4dcbce78",
   "metadata": {},
   "source": [
    "The p-value is 0.099, which is slightly below the 0.1 threshold. With alpha of 0.1, we would conclude that there is a statistically significant association between the two."
   ]
  },
  {
   "cell_type": "code",
   "execution_count": 20,
   "id": "55b89291",
   "metadata": {},
   "outputs": [
    {
     "name": "stdout",
     "output_type": "stream",
     "text": [
      "Feature: InMail\n",
      "(20, 4) \n",
      "\n",
      "Chi-square statistic: 10.509259259259258\n",
      "P-value: 0.571375461024165\n",
      "Degrees of freedom: 12\n",
      "Expected frequencies:\n",
      "[[0.8  0.6  0.6  0.8  1.2 ]\n",
      " [1.8  1.35 1.35 1.8  2.7 ]\n",
      " [0.6  0.45 0.45 0.6  0.9 ]\n",
      " [0.8  0.6  0.6  0.8  1.2 ]]\n"
     ]
    }
   ],
   "source": [
    "inmail = li_data[['li_premium','satisfaction_lv','InMail','inmail_effectiveness']]\n",
    "\n",
    "#premium users who are aware of said feature\n",
    "condition1 = inmail['li_premium'] == 1\n",
    "condition2 = inmail['InMail'] == 1 \n",
    "\n",
    "aware_premium_users = inmail[condition1 & condition2]\n",
    "\n",
    "print('Feature: InMail')\n",
    "print(aware_premium_users.shape,'\\n')\n",
    "\n",
    "\n",
    "chi_sq(aware_premium_users, 'satisfaction_lv', 'inmail_effectiveness')\n"
   ]
  },
  {
   "cell_type": "code",
   "execution_count": 23,
   "id": "be292e4d",
   "metadata": {},
   "outputs": [
    {
     "name": "stdout",
     "output_type": "stream",
     "text": [
      "Feature: Linkedin Learning\n",
      "(10, 4) \n",
      "\n",
      "Chi-square statistic: 12.222222222222221\n",
      "P-value: 0.27045931145720786\n",
      "Degrees of freedom: 10\n",
      "Expected frequencies:\n",
      "[[0.1 0.3 0.1 0.1 0.2 0.2]\n",
      " [0.6 1.8 0.6 0.6 1.2 1.2]\n",
      " [0.3 0.9 0.3 0.3 0.6 0.6]]\n"
     ]
    }
   ],
   "source": [
    "learning = li_data[['li_premium','satisfaction_lv','Linkedin Learning','linkedin_learning_effectiveness']]\n",
    "\n",
    "#premium users who are aware of said feature\n",
    "condition1 = learning['li_premium'] == 1\n",
    "condition2 = learning['Linkedin Learning'] == 1 \n",
    "\n",
    "aware_premium_users = learning[condition1 & condition2]\n",
    "\n",
    "print('Feature: Linkedin Learning')\n",
    "print(aware_premium_users.shape,'\\n')\n",
    "\n",
    "\n",
    "chi_sq(aware_premium_users, 'satisfaction_lv', 'linkedin_learning_effectiveness')"
   ]
  },
  {
   "cell_type": "code",
   "execution_count": 25,
   "id": "26f4f436",
   "metadata": {},
   "outputs": [
    {
     "name": "stdout",
     "output_type": "stream",
     "text": [
      "Feature: Profile insights\n",
      "(15, 4) \n",
      "\n",
      "Chi-square statistic: 18.142857142857142\n",
      "P-value: 0.315598174354914\n",
      "Degrees of freedom: 16\n",
      "Expected frequencies:\n",
      "[[1.33333333 0.26666667 0.8        0.8        0.8       ]\n",
      " [2.33333333 0.46666667 1.4        1.4        1.4       ]\n",
      " [0.33333333 0.06666667 0.2        0.2        0.2       ]\n",
      " [0.66666667 0.13333333 0.4        0.4        0.4       ]\n",
      " [0.33333333 0.06666667 0.2        0.2        0.2       ]]\n"
     ]
    }
   ],
   "source": [
    "prof_ins = li_data[['li_premium','satisfaction_lv','Profile insights','profile_insights_effectiveness']]\n",
    "\n",
    "#premium users who are aware of said feature\n",
    "condition1 = prof_ins['li_premium'] == 1\n",
    "condition2 = prof_ins['Profile insights'] == 1 \n",
    "\n",
    "aware_premium_users = prof_ins[condition1 & condition2]\n",
    "\n",
    "print('Feature: Profile insights')\n",
    "print(aware_premium_users.shape,'\\n')\n",
    "\n",
    "\n",
    "chi_sq(aware_premium_users, 'satisfaction_lv', 'profile_insights_effectiveness')"
   ]
  }
 ],
 "metadata": {
  "kernelspec": {
   "display_name": "Python 3 (ipykernel)",
   "language": "python",
   "name": "python3"
  },
  "language_info": {
   "codemirror_mode": {
    "name": "ipython",
    "version": 3
   },
   "file_extension": ".py",
   "mimetype": "text/x-python",
   "name": "python",
   "nbconvert_exporter": "python",
   "pygments_lexer": "ipython3",
   "version": "3.9.13"
  }
 },
 "nbformat": 4,
 "nbformat_minor": 5
}
